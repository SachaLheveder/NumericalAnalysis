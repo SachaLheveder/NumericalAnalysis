{
 "cells": [
  {
   "cell_type": "code",
   "execution_count": 2,
   "metadata": {},
   "outputs": [],
   "source": [
    "import numpy as np\n",
    "import matplotlib.pyplot as plt"
   ]
  },
  {
   "cell_type": "markdown",
   "metadata": {},
   "source": [
    "2. Construct a natural cubic spline to approximate $f(x) = \\sin(\\pi x)$ by using the values at 𝑥 = 0,0.25,0.5,0.75 and 1.0. Integrate the spline over $[0,1]$ and compare to the analytic answer. Use the derivatives of the spline to approximate 𝑓′(0.5) and 𝑓″(0.5). Compare to the analytic values."
   ]
  },
  {
   "cell_type": "code",
   "execution_count": 3,
   "metadata": {},
   "outputs": [],
   "source": [
    "#reorganizing our data for myself\n",
    "xvalues = [0, 0.25, 0.5, 0.75, 1.0]\n",
    "sinx = [0, np.sin(0.25*np.pi), 1, np.sin(0.75*np.pi), 0]"
   ]
  },
  {
   "cell_type": "markdown",
   "metadata": {},
   "source": [
    "Let's rename the values $\\{x_0, ..., x_4\\}$, and note that $f(x_0) = f(x_4) = 0, f'(x_2) = 0$ and $f(x_2) = 1$. Our cubic spline consists of the four cubic polynomials:\n",
    "$S_i(x)$, each defined on the interval $[x_i, x_{i+1}]$ for $i = 0 ... 3$.\n",
    "We'll set the natural boundary conditions that $S_0''(x_0) = S_4''(x_0) = 0$ as this would agree with how the function $f(x) = \\sin(\\pi x)$ behaves."
   ]
  },
  {
   "cell_type": "markdown",
   "metadata": {},
   "source": [
    "As was done in class, let's do all our work in terms of the unknowns $y_i'' = S''(x_i)$, so $y_0'' = y_4'' = 0$. Considering the second derivative of the $S_i$, we got:\n",
    "$$S_i''(x) = y_i''\\frac{x_{i+1}-x}{h} + y_{i+1}''\\frac{x - x_i}{h} \\text{ for } i = 0,...3$$\n",
    "Note that since out points are evenly spaced I'm not indexing $h$. Integration twice yields that \n",
    "$$ S_i(x) = \\frac{y_i''}{6h}(x_{i+1}-x) + \\frac{y''_{i+1}}{6h}(x - x_{i}) + c_i(x_{i+1}-x) + d_i(x - x_i)$$\n",
    "for some constants $c_i, d_i$. Solving for these we get the equations: \n",
    "$$ c_i = \\frac{f_{i+1}}{h} - y_{i+1}''\\frac{h}{6} \\quad \\text{ and }\\quad  \n",
    "    d_i = \\frac{f_i}{h} - y_i''\\frac{h}{6} $$\n",
    "Moving along, as was done in class, we end up with the wonderful system of linear equations that can be expressed in matrix form as follows, noting that $h_i = h = 1/4$ and $\\gamma_i = \\gamma = 1$ for all $i = 0,...3$:\n",
    "$$ \\begin{pmatrix} 1 & 1/4 & 0 \\\\ 1/4 & 1 & 1/4 \\\\ 0 & 1/4 & 1 \\end{pmatrix}\\cdot\n",
    "\\begin{pmatrix} y_1'' \\\\ y_2'' \\\\ y_3'' \\end{pmatrix} = \n",
    "24\\begin{pmatrix} 1-\\sqrt{2} \\\\ \\sqrt{2}-2 \\\\ 1-\\sqrt{2} \\end{pmatrix}\n",
    "\\quad \\text{ where } b_i = 24(f_{i+1} + f_{i-1} - 2f_i) $$\n",
    "We can easily solve this system of equations using some numerical python tools:"
   ]
  },
  {
   "cell_type": "code",
   "execution_count": 4,
   "metadata": {},
   "outputs": [
    {
     "name": "stdout",
     "output_type": "stream",
     "text": [
      "[ -7.344465   -10.38664201  -7.344465  ]\n"
     ]
    }
   ],
   "source": [
    "A = np.array([[1, 0.25, 0], [0.25, 1, 0.25], [0, 0.25, 1]])\n",
    "B = np.array([24*(1-np.sqrt(2)), 24*(np.sqrt(2)-2), 24*(1-np.sqrt(2))])\n",
    "Y = np.linalg.inv(A).dot(B)\n",
    "print(Y)"
   ]
  },
  {
   "cell_type": "code",
   "execution_count": 5,
   "metadata": {},
   "outputs": [
    {
     "name": "stdout",
     "output_type": "stream",
     "text": [
      "[0, -7.344464995648976, -10.38664200522123, -7.344464995648976, 0]\n",
      "[0.0, 3.134446499564897, 4.432776750217551, 3.1344464995648975]\n",
      "[3.134446499564897, 4.432776750217551, 3.1344464995648975, 0.0]\n"
     ]
    }
   ],
   "source": [
    "Ylist = [0, Y[0], Y[1], Y[2], 0]\n",
    "print(Ylist)\n",
    "C = []\n",
    "D = []\n",
    "for i in range(4) :\n",
    "    c = sinx[i]*4 - Ylist[i]/24\n",
    "    C.append(c)\n",
    "    d = sinx[i+1]*4 - Ylist[i+1]/24\n",
    "    D.append(d)\n",
    "print(C)\n",
    "print(D)"
   ]
  },
  {
   "cell_type": "code",
   "execution_count": 8,
   "metadata": {},
   "outputs": [
    {
     "data": {
      "text/plain": [
       "[<matplotlib.lines.Line2D at 0x7fd412095fd0>]"
      ]
     },
     "execution_count": 8,
     "metadata": {},
     "output_type": "execute_result"
    },
    {
     "data": {
      "image/png": "[encoded data removed]",
      "text/plain": [
       "<Figure size 432x288 with 1 Axes>"
      ]
     },
     "metadata": {
      "needs_background": "light"
     },
     "output_type": "display_data"
    }
   ],
   "source": [
    "for i in range(4):\n",
    "    def S(i,x):\n",
    "        s = Ylist[i]*(2/3)*((xvalues[i+1] - x)**3) + Ylist[i+1]*(2/3)*((x - xvalues[i])**3)\n",
    "        t = C[i]*(xvalues[i+1] - x) + D[i]*(x - xvalues[i])\n",
    "        return (s + t)\n",
    "def Spline(x):\n",
    "    if (0 <= x <= 0.25):\n",
    "        return S(0,x)\n",
    "    elif (0.25 < x <= 0.5):\n",
    "        return S(1,x)\n",
    "    elif (0.5 < x <= 0.75):\n",
    "        return S(2,x)\n",
    "    elif (0.75 < x <= 1):\n",
    "        return S(3,x)\n",
    "\n",
    "L = np.arange(0,1.01,.01)\n",
    "K = []\n",
    "J = []\n",
    "for i in range(101):\n",
    "    x = L[i]\n",
    "    K.append(Spline(x))\n",
    "#print(L)\n",
    "#print(K)\n",
    "plt.plot(L,K)"
   ]
  },
  {
   "cell_type": "code",
   "execution_count": 9,
   "metadata": {},
   "outputs": [
    {
     "name": "stdout",
     "output_type": "stream",
     "text": [
      "(0.6362038749637413, 7.063292550672784e-15)\n"
     ]
    }
   ],
   "source": [
    "#Now to integrate the spline we'll use the gaussian quadrature method that python has built in.\n",
    "import scipy.integrate as integrate\n",
    "I = integrate.quad(Spline, 0, 1)\n",
    "print(I)"
   ]
  },
  {
   "cell_type": "markdown",
   "metadata": {},
   "source": [
    "The first output is the calculated integral and the second is an estimate of the error on it. This error isn't the one we care about though, because a priori, the computer has no idea we're trying to approximate sine. The analytic value can be calculated easily:\n",
    "$$ \\int_0^1 \\sin(\\pi x)dx = \\left.-\\frac{\\cos(\\pi x)}{\\pi}\\right|^1_0 = \\frac{2}{\\pi}$$"
   ]
  },
  {
   "cell_type": "code",
   "execution_count": 10,
   "metadata": {},
   "outputs": [
    {
     "name": "stdout",
     "output_type": "stream",
     "text": [
      "0.0004158974038400709\n"
     ]
    }
   ],
   "source": [
    "error = np.abs(2/np.pi - I[0])\n",
    "print(error)"
   ]
  },
  {
   "cell_type": "markdown",
   "metadata": {},
   "source": [
    "One sees here that the spline made for a very good approximation of the function, as the integrals differ by less than .001, meaning the functions do not deviate from each other in a meaningful way.\n",
    "\n",
    "Next we need to use the derivative of this spline to approximate some values. I could use the build in differentiation methods in python, but in our construction of the spline we already used the first and second derivatives so I'll just redefine them here:"
   ]
  },
  {
   "cell_type": "code",
   "execution_count": 41,
   "metadata": {},
   "outputs": [
    {
     "name": "stdout",
     "output_type": "stream",
     "text": [
      "2.5966605013053075\n",
      "-10.38664200522123\n"
     ]
    }
   ],
   "source": [
    "for i in range(4):\n",
    "    def Ss(i, x):\n",
    "        temp = -2*Ylist[i]*((xvalues[i+1]-x)**2) + 2*Ylist[i+1]*((x-xvalues[i])**2) + C[i] - D[i]\n",
    "        return temp\n",
    "    def Sss(i, x):\n",
    "        temp = 4*Ylist[i]*(xvalues[i+1] - x) + 4*Ylist[i+1]*(x - xvalues[i])\n",
    "        return temp\n",
    "\n",
    "    \n",
    "def FirstDeriv(x):\n",
    "    if (0 <= x <= 0.25):\n",
    "        return Ss(0,x)\n",
    "    elif (0.25 < x < 0.5):\n",
    "        return Ss(1,x)\n",
    "    elif (0.5 <= x <= 0.75):\n",
    "        return Ss(2,x)\n",
    "    elif (0.75 < x <= 1):\n",
    "        return Ss(3,x)\n",
    "def SecondDeriv(x):\n",
    "    if (0 <= x <= 0.25):\n",
    "        return Sss(0,x)\n",
    "    elif (0.25 < x <= 0.5):\n",
    "        return Sss(1,x)\n",
    "    elif (0.5 < x <= 0.75):\n",
    "        return Sss(2,x)\n",
    "    elif (0.75 < x <= 1):\n",
    "        return Sss(3,x)\n",
    "\n",
    "print(FirstDeriv(0.5))\n",
    "print(SecondDeriv(0.5))\n",
    "\n",
    "#from scipy.misc import derivative\n",
    "#derivative(Spline, 0.5, dx = 1e-6)"
   ]
  },
  {
   "cell_type": "markdown",
   "metadata": {},
   "source": [
    "At first glance these look super funky, and they do differ significantly from the analytical values of 0 and $-\\pi^2$, but we don't require that these match in the construction of the cubic splines. We just require the boundary conditions and that the derivatives of the piecewise polynomials agree on the nodes. The second derivative isn't even that far off, which might be because we defined the piecewise polynomials in terms of the second derivatives."
   ]
  },
  {
   "cell_type": "code",
   "execution_count": null,
   "metadata": {},
   "outputs": [],
   "source": []
  }
 ],
 "metadata": {
  "kernelspec": {
   "display_name": "Python 3",
   "language": "python",
   "name": "python3"
  },
  "language_info": {
   "codemirror_mode": {
    "name": "ipython",
    "version": 3
   },
   "file_extension": ".py",
   "mimetype": "text/x-python",
   "name": "python",
   "nbconvert_exporter": "python",
   "pygments_lexer": "ipython3",
   "version": "3.8.3"
  }
 },
 "nbformat": 4,
 "nbformat_minor": 4
}
