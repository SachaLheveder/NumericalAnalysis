{
 "cells": [
  {
   "cell_type": "code",
   "execution_count": 1,
   "metadata": {},
   "outputs": [],
   "source": [
    "import numpy as np\n",
    "import matplotlib.pyplot as plt"
   ]
  },
  {
   "cell_type": "markdown",
   "metadata": {},
   "source": [
    "Find the constants $x_0, x_1$ and $c$ such that the numerical integration formula $\\int_0^2 f(x)dx = f(x_0)+cf(x_1)$ has the highest precision possible.\n",
    "\n",
    "Obviously the answer to this has to depend on the function $f$: Consider that for $f(x) = x$ the optimal answers are $c=1, x_0 = 0$ and $x_2=2$, which give an exact answer (since this is a polynomial of degree less than three), but for $f(x) = \\sin((\\pi x)/2)$ these values give a terrible approximation. Since this question was worded ambiguously, I'll answer the following question (and if you wanted the us to use the function $f$ from question 2, then the answer is trivially $c =0, x_1 = 0, x_2 = 2$):\n",
    "\n",
    "(1) Similar to what was done in class, what are the optimal $c, x_0, x_1$ for the case of $f$ a polynomial of degree lesss than 3 (because there are 3 total unknowns)\n",
    "\n",
    "Suppose $f(x) = a_0 + a_1x + a_2x^2 + a_3 x^3$. Then we get\n",
    "\n",
    "\\begin{gather*} \n",
    "    \\int_0^2 f(x)dx = a_0\\int_0^2dx + a_1\\int_0^2 xdx + a_2\\int_0^2 x^2dx \\\\\n",
    "    \\text{which gives us the following system: } \\{c = 2, \\quad x_0 + cx_1 = 2, \\quad x_0^2 + cx_1^2 = 8/3\\}\n",
    "\\end{gather*}"
   ]
  },
  {
   "cell_type": "code",
   "execution_count": 6,
   "metadata": {},
   "outputs": [
    {
     "name": "stdout",
     "output_type": "stream",
     "text": [
      "[(-0.276142374915397, 1.13807118745770), (1.60947570824873, 0.195262145875635)]\n"
     ]
    }
   ],
   "source": [
    "#Note that this system of equations could have two solutions\n",
    "#We'll have to find them solution and hope one of them lies inside [0,2] - otherwise I did something horribly wrong.\n",
    "from sympy import *\n",
    "x, y = symbols('x, y')\n",
    "equation1 = Eq(x+2*y, 2)\n",
    "equation2 = Eq(x**2 + 2*y**2, 8/3)\n",
    "solutions = solve([equation1, equation2], [x, y])\n",
    "print(solutions)"
   ]
  },
  {
   "cell_type": "markdown",
   "metadata": {},
   "source": [
    "With this computation we get that the optimal values are:\n",
    "\\begin{gather*}\n",
    "   c = 2 \\\\ x_0 = 1.60947570824873 \\\\ x_1 = 0.1952621245875635\n",
    "\\end{gather*}"
   ]
  },
  {
   "cell_type": "code",
   "execution_count": null,
   "metadata": {},
   "outputs": [],
   "source": []
  }
 ],
 "metadata": {
  "kernelspec": {
   "display_name": "Python 3",
   "language": "python",
   "name": "python3"
  },
  "language_info": {
   "codemirror_mode": {
    "name": "ipython",
    "version": 3
   },
   "file_extension": ".py",
   "mimetype": "text/x-python",
   "name": "python",
   "nbconvert_exporter": "python",
   "pygments_lexer": "ipython3",
   "version": "3.8.3"
  }
 },
 "nbformat": 4,
 "nbformat_minor": 4
}
