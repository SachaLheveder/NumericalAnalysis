{
 "cells": [
  {
   "cell_type": "code",
   "execution_count": 3,
   "metadata": {},
   "outputs": [],
   "source": [
    "import numpy as np\n",
    "import matplotlib.pyplot as plt\n",
    "import scipy.integrate as integrate"
   ]
  },
  {
   "cell_type": "markdown",
   "metadata": {},
   "source": [
    "Use Lagrange interpolation to construct an approximation to $\\int_{-1}^1f(x)dx$ with nodes at $x = -1, −1/2, 1/2$ and 1."
   ]
  },
  {
   "cell_type": "markdown",
   "metadata": {},
   "source": [
    "I'll solve this, first assuming $f$ to be an arbitrary smooth function, because thats what the question seems to be asking(?) and then, in case we were supposed to assume that $f$ is the same function as in question 2 I'll solve that too. \n",
    "\n",
    "We have the pairs $\\{(x_i,f_i): i = 0,...3\\}$ where $f_i = f(x_i)$ for the values of $x_i$ corresponding to $\\{-1,-1/2, 1/2, 1\\}$ in that order. If we lagrange interpolate for $f$ we obtain an expression for the integral in terms of the interpolating polynomial $P_3(x)$ (of degree 3 in this case) and an error term:\n",
    "\\begin{gather*} \n",
    "    \\int_{-1}^1 f(x) dx = \\int_{-1}^1 P_3(x)dx + \n",
    "    \\int_{-1}^1 \\prod_{i=0}^3 (x-x_1)\\frac{f^{(4)}(\\xi)}{4!} \\,\\text{ for some }\\xi\\in[-1,1] \\\\\n",
    "    \\int_{-1}^1 P_3(x)dx = \\sum_{i=0}^3f_i\\int_{-1}^1 \\mathcal{L}_i(x)dx \\, \\text{ where }\n",
    "    \\mathcal{L}_i(x) = \\prod_{j\\neq i} \\frac{x-x_j}{x_i-x_j} \\text{ are the lagrange polynomials.}\n",
    "\\end{gather*}\n",
    "Note that each of the $\\int_{-1}^1 \\mathcal{L}_i(x)dx$ evaluates to some constant independent of $x$, which we can call $M_i$. Next let's turn out attention to the error term:\n",
    "\\begin{gather*}\n",
    "    \\int_{-1}^1 \\prod_{i=0}^3 (x-x_1)\\frac{f^{(4)}(\\xi)}{4!}dx = \\frac{f^{(4)}(\\xi)}{24}\\int_{-1}^1 \n",
    "    (x+1)\\left(x+\\frac{1}{2}\\right)\\left(x-\\frac{1}{2}\\right)(x-1)dx\\\\\n",
    "    = \\frac{f^{(4)}(\\xi)}{24}\\int_{-1}^1 x^4 - \\frac{3}{2}x^2 + \\frac{1}{2}dx = \\frac{f^{(4)}(\\xi)}{10}\n",
    "\\end{gather*}\n",
    "So we have an approximation in terms of the integrals of the lagrange polynomials and a constant $\\xi\\in[-1,1]$\n",
    "$$\\int_{-1}^1 f(x)dx \\approx \\sum_{i=0}^3 f_iM_i + \\frac{f^{(4)}(\\xi)}{10}$$"
   ]
  },
  {
   "cell_type": "code",
   "execution_count": 12,
   "metadata": {},
   "outputs": [
    {
     "name": "stdout",
     "output_type": "stream",
     "text": [
      "0.11111111111111112 0.888888888888889 0.888888888888889 0.11111111111111112\n"
     ]
    }
   ],
   "source": [
    "#plugging in the values for the case f(x)=sin(pi x)\n",
    "xvalues = [-1,-0.5,0.5,1]\n",
    "fvalues = [0,-1,1,0]\n",
    "\n",
    "def buildLagrange(i,x):\n",
    "    f = 1\n",
    "    for j in range(4):\n",
    "        if(j != i):\n",
    "            f = f * ((x - xvalues[j])/(xvalues[i] - xvalues[j]))\n",
    "        j = j+1\n",
    "    return f\n",
    "def M(i):\n",
    "    def L(x):\n",
    "         return buildLagrange(i,x)\n",
    "    t = integrate.quad(L, -1, 1)\n",
    "    return t[0]\n",
    "print(M(0), M(1), M(2), M(3))"
   ]
  },
  {
   "cell_type": "markdown",
   "metadata": {},
   "source": [
    "So we note that since the outputs of $f(x) = \\sin(\\pi x)$ are symmetric as well, the first sum in that approximation is 0, which makes sense with the analytic result. The error term is $\\frac{\\pi^4}{10}\\sin(\\pi\\xi)$ for a $\\xi\\in[-1,1]$. "
   ]
  },
  {
   "cell_type": "code",
   "execution_count": null,
   "metadata": {},
   "outputs": [],
   "source": []
  }
 ],
 "metadata": {
  "kernelspec": {
   "display_name": "Python 3",
   "language": "python",
   "name": "python3"
  },
  "language_info": {
   "codemirror_mode": {
    "name": "ipython",
    "version": 3
   },
   "file_extension": ".py",
   "mimetype": "text/x-python",
   "name": "python",
   "nbconvert_exporter": "python",
   "pygments_lexer": "ipython3",
   "version": "3.8.3"
  }
 },
 "nbformat": 4,
 "nbformat_minor": 4
}
